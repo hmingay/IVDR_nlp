{
 "cells": [
  {
   "cell_type": "code",
   "execution_count": 1,
   "metadata": {},
   "outputs": [],
   "source": [
    "f = open('questions.txt', 'r')\n",
    "questions = f.read()"
   ]
  },
  {
   "cell_type": "code",
   "execution_count": 2,
   "metadata": {},
   "outputs": [],
   "source": [
    "index_1_start = questions.find('Rule 1')\n",
    "index_1_end = questions.find('Rule 2')\n",
    "\n",
    "question_1 = questions[(index_1_start + 8):(index_1_end)]\n",
    "#print(question_1)"
   ]
  },
  {
   "cell_type": "code",
   "execution_count": 3,
   "metadata": {},
   "outputs": [],
   "source": [
    "index_2_start = questions.find('Rule 2')\n",
    "index_2_end = questions.find('Rule 3')\n",
    "\n",
    "question_2 = questions[(index_2_start + 8):(index_2_end)]\n",
    "#print(question_2)"
   ]
  },
  {
   "cell_type": "code",
   "execution_count": 4,
   "metadata": {},
   "outputs": [],
   "source": [
    "index_3_start = questions.find('Rule 3')\n",
    "index_3_end = questions.find('Rule 4')\n",
    "\n",
    "question_3 = questions[(index_3_start + 8):(index_3_end)]\n",
    "#print(question_3)\n"
   ]
  },
  {
   "cell_type": "code",
   "execution_count": 5,
   "metadata": {},
   "outputs": [],
   "source": [
    "index_4_start = questions.find('Rule 4')\n",
    "index_4_end = questions.find('Rule 5')\n",
    "\n",
    "question_4 = questions[(index_4_start + 8):(index_4_end)]\n",
    "#print(question_4)"
   ]
  },
  {
   "cell_type": "code",
   "execution_count": 6,
   "metadata": {},
   "outputs": [],
   "source": [
    "index_5_start = questions.find('Rule 5')\n",
    "index_5_end = questions.find('Rule 7')\n",
    "\n",
    "question_5 = questions[(index_5_start + 8):(index_5_end)]\n",
    "#print(question_5)"
   ]
  },
  {
   "cell_type": "code",
   "execution_count": 7,
   "metadata": {},
   "outputs": [],
   "source": [
    "index_7_start = questions.find('Rule 7')\n",
    "\n",
    "question_7 = questions[(index_7_start + 8):]\n",
    "#print(question_7)"
   ]
  },
  {
   "cell_type": "code",
   "execution_count": null,
   "metadata": {},
   "outputs": [],
   "source": []
  },
  {
   "cell_type": "code",
   "execution_count": null,
   "metadata": {},
   "outputs": [],
   "source": []
  },
  {
   "cell_type": "code",
   "execution_count": null,
   "metadata": {},
   "outputs": [],
   "source": []
  }
 ],
 "metadata": {
  "kernelspec": {
   "display_name": "Python 3",
   "language": "python",
   "name": "python3"
  },
  "language_info": {
   "codemirror_mode": {
    "name": "ipython",
    "version": 3
   },
   "file_extension": ".py",
   "mimetype": "text/x-python",
   "name": "python",
   "nbconvert_exporter": "python",
   "pygments_lexer": "ipython3",
   "version": "3.7.4"
  }
 },
 "nbformat": 4,
 "nbformat_minor": 4
}
