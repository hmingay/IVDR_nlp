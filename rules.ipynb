{
 "cells": [
  {
   "cell_type": "code",
   "execution_count": 18,
   "metadata": {},
   "outputs": [],
   "source": [
    "\n",
    "    f = open('rules.txt', 'r')\n",
    "    rules = f.read()\n",
    "\n",
    "    index_1_start = rules.find('Rule 1')\n",
    "    index_1_end = rules.find('Rule 2')\n",
    "    #print(index_1_start)\n",
    "    #print(index_1_end)\n",
    "\n",
    "\n",
    "    rule_1 = rules[(index_1_start + 8):(index_1_end - 10)]\n",
    "    #print(rule_1)\n",
    "\n",
    "    index_2_start = rules.find('Rule 2')\n",
    "    index_2_end = rules.find('Rule 3')\n",
    "    #print(index_1_start)\n",
    "    #print(index_1_end)\n",
    "\n",
    "    rule_2 = rules[(index_2_start + 8):(index_2_end - 10)]\n",
    "    #print(rule_2)\n",
    "\n",
    "    index_3_start = rules.find('Rule 3')\n",
    "    index_3_end = rules.find('Rule 4')\n",
    "\n",
    "    rule_3 = rules[(index_3_start + 8):(index_3_end - 10)]\n",
    "    rule_3_ = rules[(index_3_start):(index_3_end)]\n",
    "    #print(rule_3)\n",
    "\n",
    "    index_4_start = rules.find('Rule 4')\n",
    "    index_4_end = rules.find('Rule 5')\n",
    "\n",
    "    rule_4 = rules[(index_4_start + 8):(index_4_end - 10)]\n",
    "    #print(rule_4)\n",
    "\n",
    "    index_5_start = rules.find('Rule 5')\n",
    "    index_5_end = rules.find('Rule 6')\n",
    "\n",
    "    rule_5 = rules[(index_5_start + 8):(index_5_end - 10)]\n",
    "    #print(rule_5)\n",
    "\n",
    "    index_6_start = rules.find('Rule 6')\n",
    "    index_6_end = rules.find('Rule 7')\n",
    "\n",
    "    rule_6 = rules[(index_6_start + 8):(index_6_end - 10)]\n",
    "    #print(rule_6)\n",
    "\n",
    "    index_7_start = rules.find('Rule 7')\n",
    "\n",
    "    rule_7 = rules[(index_7_start + 8):]\n",
    "    #print(rule_7)\n"
   ]
  },
  {
   "cell_type": "code",
   "execution_count": 19,
   "metadata": {},
   "outputs": [
    {
     "name": "stdout",
     "output_type": "stream",
     "text": [
      "Rule 3 \n",
      "\n",
      "Devices are classified as class C if  they are intended: \n",
      "\n",
      "for detecting the presence of, or exposure to, a sexually transmitted agent; \n",
      "\n",
      "for  detecting  the  presence  in  cerebrospinal  fluid  or  blood  of  an  infectious  agent  without  a  high  or  suspected high risk of propagation; \n",
      "\n",
      "for  detecting  the  presence  of  an  infectious  agent,  if  there  is  a significant  risk  that  an  erroneous  result  would cause  death  or  severe  disability to  the  individual,  foetus  or  embryo  being  tested,  or  to  the  individual's offspring; \n",
      "\n",
      "for pre-natal screening of women in order  to determine their  immune status towards transmissible agents; \n",
      "\n",
      "for  determining  infective  disease  status  or  immune  status,  where  there  is  a  risk  that  an  erroneous  result \n",
      "would lead to a patient management decision resulting in a life-threatening situation for  the patient or for  the \n",
      "patient's offspring; \n",
      "\n",
      "to be used as companion diagnostics; \n",
      "\n",
      "to  be  used  for  disease  staging,  where  there  is  a  risk  that  an  erroneous  result  would  lead  to  a  patient management decision resulting in a life-threatening situation for  the patient or for  the patient's offspring; \n",
      "\n",
      "to be used in screening, diagnosis, or staging of cancer;  \n",
      "\n",
      "for human genetic testing; \n",
      "\n",
      "for management of patients suffering from a life-threatening disease or condition; \n",
      "\n",
      "for  monitoring  of  levels  of  medicinal  products,  substances  or  biological  components,  when  there  is  a  risk that an erroneous result will lead to a patient management decision resulting in a life-threatening situation for the patient or for  the patient's offspring; \n",
      "\n",
      "for  screening  for  congenital  disorders  in  new-born  babies  where  failure  to  detect  and  treat  such  disorders could lead to life-threatening situations or severe disabilities. \n",
      "\n",
      "for screening for congenital disorders in the embryo or foetus; \n",
      "\n",
      "\n",
      "\n",
      "2.4.   \n"
     ]
    }
   ],
   "source": [
    "print(rule_3_)"
   ]
  },
  {
   "cell_type": "code",
   "execution_count": 14,
   "metadata": {},
   "outputs": [],
   "source": [
    "index_1 = rule_1.find('detection')\n",
    "index_2 = rule_1.find('administration')"
   ]
  },
  {
   "cell_type": "code",
   "execution_count": 15,
   "metadata": {},
   "outputs": [
    {
     "name": "stdout",
     "output_type": "stream",
     "text": [
      "86\n",
      "353\n"
     ]
    }
   ],
   "source": [
    "print(index_1)\n",
    "print(index_2)"
   ]
  },
  {
   "cell_type": "code",
   "execution_count": 16,
   "metadata": {},
   "outputs": [
    {
     "name": "stdout",
     "output_type": "stream",
     "text": [
      "\n",
      "Devices are classified as class C if  they are intended: \n",
      "\n",
      "for detecting the presence of, or exposure to, a sexually transmitted agent; \n",
      "\n",
      "for  detecting  the  presence  in  cerebrospinal  fluid  or  blood  of  an  infectious  agent  without  a  high  or  suspected high risk of propagation; \n",
      "\n",
      "for  detecting  the  presence  of  an  infectious  agent,  if  there  is  a significant  risk  that  an  erroneous  result  would cause  death  or  severe  disability to  the  individual,  foetus  or  embryo  being  tested,  or  to  the  individual's offspring; \n",
      "\n",
      "for pre-natal screening of women in order  to determine their  immune status towards transmissible agents; \n",
      "\n",
      "for  determining  infective  disease  status  or  immune  status,  where  there  is  a  risk  that  an  erroneous  result \n",
      "would lead to a patient management decision resulting in a life-threatening situation for  the patient or for  the \n",
      "patient's offspring; \n",
      "\n",
      "to be used as companion diagnostics; \n",
      "\n",
      "to  be  used  for  disease  staging,  where  there  is  a  risk  that  an  erroneous  result  would  lead  to  a  patient management decision resulting in a life-threatening situation for  the patient or for  the patient's offspring; \n",
      "\n",
      "to be used in screening, diagnosis, or staging of cancer;  \n",
      "\n",
      "for human genetic testing; \n",
      "\n",
      "for management of patients suffering from a life-threatening disease or condition; \n",
      "\n",
      "for  monitoring  of  levels  of  medicinal  products,  substances  or  biological  components,  when  there  is  a  risk that an erroneous result will lead to a patient management decision resulting in a life-threatening situation for the patient or for  the patient's offspring; \n",
      "\n",
      "for  screening  for  congenital  disorders  in  new-born  babies  where  failure  to  detect  and  treat  such  disorders could lead to life-threatening situations or severe disabilities. \n",
      "\n",
      "for screening for congenital disorders in the embryo or foetus; \n",
      "\n"
     ]
    }
   ],
   "source": [
    "print(rule_3)"
   ]
  },
  {
   "cell_type": "code",
   "execution_count": null,
   "metadata": {},
   "outputs": [],
   "source": []
  }
 ],
 "metadata": {
  "kernelspec": {
   "display_name": "Python 3",
   "language": "python",
   "name": "python3"
  },
  "language_info": {
   "codemirror_mode": {
    "name": "ipython",
    "version": 3
   },
   "file_extension": ".py",
   "mimetype": "text/x-python",
   "name": "python",
   "nbconvert_exporter": "python",
   "pygments_lexer": "ipython3",
   "version": "3.7.4"
  }
 },
 "nbformat": 4,
 "nbformat_minor": 4
}
