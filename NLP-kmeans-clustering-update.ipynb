{
 "cells": [
  {
   "cell_type": "code",
   "execution_count": 162,
   "metadata": {},
   "outputs": [],
   "source": [
    "import sklearn\n",
    "from sklearn import cluster\n",
    "import numpy as np\n",
    "from copy import deepcopy\n",
    "from sklearn.cluster import KMeans"
   ]
  },
  {
   "cell_type": "code",
   "execution_count": null,
   "metadata": {},
   "outputs": [],
   "source": []
  },
  {
   "cell_type": "code",
   "execution_count": 163,
   "metadata": {},
   "outputs": [
    {
     "name": "stdout",
     "output_type": "stream",
     "text": [
      "['for detecting the presence of, or exposure to, a sexually transmitted agent;', 'for  detecting  the  presence  in  cerebrospinal  fluid  or  blood  of  an  infectious agent  without  a  high  or  suspected high risk of propagation;', \"for  detecting  the  presence  of  an  infectious  agent,  if  there  is  a  significant risk  that  an  erroneous  result  would cause  death  or  severe  disability  to  the individual,  foetus  or  embryo  being  tested,  or  to  the  individual's offspring;\", 'for pre-natal screening of women in order  to determine their  immune status towards transmissible agents;', \"for  determining  infective  disease  status  or  immune  status,  where  there  is  a risk  that  an  erroneous  result would lead to a patient management decision resulting in a life-threatening situation for  the patient or for  the patient's offspring;\", 'to be used as companion diagnostics;', \"to  be  used  for  disease  staging,  where  there  is  a  risk  that  an  erroneous result  would  lead  to  a  patient management decision resulting in a life-threatening situation for  the patient or for  the patient's offspring;\", 'to be used in screening, diagnosis, or staging of cancer;', 'for human genetic testing;', \"for  monitoring  of  levels  of  medicinal  products,  substances  or  biological components,  when  there  is  a  risk that an erroneous result will lead to a patient management decision resulting in a life-threatening situation for the patient or for  the patient's offspring;\", 'for management of patients suffering from a life-threatening disease or condition;', 'for screening for congenital disorders in the embryo or foetus;', 'for  screening  for  congenital  disorders  in  new-born  babies  where  failure  to detect  and  treat  such  disorders could lead to life-threatening situations or severe disabilities.']\n"
     ]
    }
   ],
   "source": [
    "with open('rule_3.txt', 'r') as f:\n",
    "    r3 = f.read()\n",
    "    \n",
    "sents = [a.strip() for a in r3.split('\\n- ')]\n",
    "sents = sents[1:]\n",
    "print(sents)"
   ]
  },
  {
   "cell_type": "code",
   "execution_count": 164,
   "metadata": {},
   "outputs": [
    {
     "data": {
      "text/plain": [
       "(13, 96)"
      ]
     },
     "execution_count": 164,
     "metadata": {},
     "output_type": "execute_result"
    }
   ],
   "source": [
    "import spacy\n",
    "nlp = spacy.load('en_core_web_sm')\n",
    "\n",
    "rules = [nlp(sent) for sent in sents]\n",
    "\n",
    "array = np.array([sent.vector for sent in rules])\n",
    "array.shape"
   ]
  },
  {
   "cell_type": "code",
   "execution_count": 165,
   "metadata": {},
   "outputs": [
    {
     "data": {
      "text/plain": [
       "array([0, 1, 1, 0, 1, 2, 1, 0, 3, 1, 0, 0, 1], dtype=int32)"
      ]
     },
     "execution_count": 165,
     "metadata": {},
     "output_type": "execute_result"
    }
   ],
   "source": [
    "kmeansAlgo = sklearn.cluster.KMeans(n_clusters=4) # initalise KMeans\n",
    "\n",
    "kmeansAlgo.fit(array) # fitting the KMeans algorithm\n",
    "\n",
    "# Predicting labels with KMeans clustering\n",
    "labels = kmeansAlgo.predict(array); labels"
   ]
  },
  {
   "cell_type": "code",
   "execution_count": 166,
   "metadata": {},
   "outputs": [],
   "source": [
    "centers = kmeansAlgo.cluster_centers_"
   ]
  },
  {
   "cell_type": "code",
   "execution_count": 167,
   "metadata": {},
   "outputs": [
    {
     "data": {
      "text/plain": [
       "(4, 96)"
      ]
     },
     "execution_count": 167,
     "metadata": {},
     "output_type": "execute_result"
    }
   ],
   "source": [
    "centers.shape"
   ]
  },
  {
   "cell_type": "code",
   "execution_count": 168,
   "metadata": {},
   "outputs": [],
   "source": [
    "import pandas as pd"
   ]
  },
  {
   "cell_type": "code",
   "execution_count": 169,
   "metadata": {},
   "outputs": [
    {
     "data": {
      "text/html": [
       "<div>\n",
       "<style scoped>\n",
       "    .dataframe tbody tr th:only-of-type {\n",
       "        vertical-align: middle;\n",
       "    }\n",
       "\n",
       "    .dataframe tbody tr th {\n",
       "        vertical-align: top;\n",
       "    }\n",
       "\n",
       "    .dataframe thead th {\n",
       "        text-align: right;\n",
       "    }\n",
       "</style>\n",
       "<table border=\"1\" class=\"dataframe\">\n",
       "  <thead>\n",
       "    <tr style=\"text-align: right;\">\n",
       "      <th></th>\n",
       "      <th>sentences</th>\n",
       "      <th>cluster number</th>\n",
       "    </tr>\n",
       "  </thead>\n",
       "  <tbody>\n",
       "    <tr>\n",
       "      <th>0</th>\n",
       "      <td>for detecting the presence of, or exposure to,...</td>\n",
       "      <td>0</td>\n",
       "    </tr>\n",
       "    <tr>\n",
       "      <th>1</th>\n",
       "      <td>for  detecting  the  presence  in  cerebrospin...</td>\n",
       "      <td>1</td>\n",
       "    </tr>\n",
       "    <tr>\n",
       "      <th>2</th>\n",
       "      <td>for  detecting  the  presence  of  an  infecti...</td>\n",
       "      <td>1</td>\n",
       "    </tr>\n",
       "    <tr>\n",
       "      <th>3</th>\n",
       "      <td>for pre-natal screening of women in order  to ...</td>\n",
       "      <td>0</td>\n",
       "    </tr>\n",
       "    <tr>\n",
       "      <th>4</th>\n",
       "      <td>for  determining  infective  disease  status  ...</td>\n",
       "      <td>1</td>\n",
       "    </tr>\n",
       "    <tr>\n",
       "      <th>5</th>\n",
       "      <td>to be used as companion diagnostics;</td>\n",
       "      <td>2</td>\n",
       "    </tr>\n",
       "    <tr>\n",
       "      <th>6</th>\n",
       "      <td>to  be  used  for  disease  staging,  where  t...</td>\n",
       "      <td>1</td>\n",
       "    </tr>\n",
       "    <tr>\n",
       "      <th>7</th>\n",
       "      <td>to be used in screening, diagnosis, or staging...</td>\n",
       "      <td>0</td>\n",
       "    </tr>\n",
       "    <tr>\n",
       "      <th>8</th>\n",
       "      <td>for human genetic testing;</td>\n",
       "      <td>3</td>\n",
       "    </tr>\n",
       "    <tr>\n",
       "      <th>9</th>\n",
       "      <td>for  monitoring  of  levels  of  medicinal  pr...</td>\n",
       "      <td>1</td>\n",
       "    </tr>\n",
       "    <tr>\n",
       "      <th>10</th>\n",
       "      <td>for management of patients suffering from a li...</td>\n",
       "      <td>0</td>\n",
       "    </tr>\n",
       "    <tr>\n",
       "      <th>11</th>\n",
       "      <td>for screening for congenital disorders in the ...</td>\n",
       "      <td>0</td>\n",
       "    </tr>\n",
       "    <tr>\n",
       "      <th>12</th>\n",
       "      <td>for  screening  for  congenital  disorders  in...</td>\n",
       "      <td>1</td>\n",
       "    </tr>\n",
       "  </tbody>\n",
       "</table>\n",
       "</div>"
      ],
      "text/plain": [
       "                                            sentences  cluster number\n",
       "0   for detecting the presence of, or exposure to,...               0\n",
       "1   for  detecting  the  presence  in  cerebrospin...               1\n",
       "2   for  detecting  the  presence  of  an  infecti...               1\n",
       "3   for pre-natal screening of women in order  to ...               0\n",
       "4   for  determining  infective  disease  status  ...               1\n",
       "5                to be used as companion diagnostics;               2\n",
       "6   to  be  used  for  disease  staging,  where  t...               1\n",
       "7   to be used in screening, diagnosis, or staging...               0\n",
       "8                          for human genetic testing;               3\n",
       "9   for  monitoring  of  levels  of  medicinal  pr...               1\n",
       "10  for management of patients suffering from a li...               0\n",
       "11  for screening for congenital disorders in the ...               0\n",
       "12  for  screening  for  congenital  disorders  in...               1"
      ]
     },
     "execution_count": 169,
     "metadata": {},
     "output_type": "execute_result"
    }
   ],
   "source": [
    "pd.DataFrame({'sentences': sents, 'cluster number': labels})"
   ]
  },
  {
   "cell_type": "code",
   "execution_count": 170,
   "metadata": {},
   "outputs": [
    {
     "data": {
      "text/plain": [
       "(4, 96)"
      ]
     },
     "execution_count": 170,
     "metadata": {},
     "output_type": "execute_result"
    }
   ],
   "source": [
    "kmeansAlgo.cluster_centers_.shape"
   ]
  },
  {
   "cell_type": "code",
   "execution_count": 171,
   "metadata": {},
   "outputs": [],
   "source": [
    "# performing a principal component analysis to reduce the number of dimensions \n",
    "\n",
    "pca = sklearn.decomposition.PCA()\n",
    "result = pca.fit_transform(array)"
   ]
  },
  {
   "cell_type": "code",
   "execution_count": 172,
   "metadata": {},
   "outputs": [],
   "source": [
    "projected_centers = pca.transform(centers)"
   ]
  },
  {
   "cell_type": "code",
   "execution_count": 173,
   "metadata": {},
   "outputs": [
    {
     "data": {
      "text/plain": [
       "(4, 2)"
      ]
     },
     "execution_count": 173,
     "metadata": {},
     "output_type": "execute_result"
    }
   ],
   "source": [
    "projected_centers[:, :2].shape"
   ]
  },
  {
   "cell_type": "code",
   "execution_count": 174,
   "metadata": {},
   "outputs": [],
   "source": [
    "import matplotlib.pyplot as plt\n",
    "import seaborn as sns; sns.set()"
   ]
  },
  {
   "cell_type": "code",
   "execution_count": 175,
   "metadata": {},
   "outputs": [],
   "source": [
    "cdict = {0: 'green', 1: 'red', 2: 'orange', 3: 'blue', 4: 'purple', 5: 'turquoise'}\n",
    "label_names = {0: 'cluster 1', 1: 'cluster 2', 2: 'cluster 3', 3: 'cluster 4', 4: 'cluster 5', 5: 'cluster 6'}"
   ]
  },
  {
   "cell_type": "code",
   "execution_count": null,
   "metadata": {},
   "outputs": [],
   "source": []
  },
  {
   "cell_type": "code",
   "execution_count": 176,
   "metadata": {},
   "outputs": [
    {
     "data": {
      "image/png": "[encoded data removed]",
      "text/plain": [
       "<Figure size 504x360 with 1 Axes>"
      ]
     },
     "metadata": {},
     "output_type": "display_data"
    }
   ],
   "source": [
    "fig,ax = plt.subplots(figsize = (7,5))\n",
    "plt.scatter(projected_centers[:, 0], projected_centers[:, 1], c='black', s=200, alpha=0.5)\n",
    "\n",
    "for l in np.unique(labels):\n",
    "    idx = np.where(labels==l)\n",
    "    ax.scatter(result[idx, 0], result[idx, 1],\n",
    "              c=cdict[l], label=label_names[l])\n",
    "    \n",
    "plt.xlabel(\"Dimension 1\",fontsize=14)\n",
    "plt.ylabel(\"Dimension 2\",fontsize=14)\n",
    "plt.legend()\n",
    "plt.show()\n",
    "\n",
    "#pca; first component is a weighted linear combination of the 96 dimensions \n",
    "#second is also weighted....\n",
    "#when you project vectors onto this 2D space, you lose information which is why we have an unexpected cluster centre \n",
    "\n",
    "#the clusters have been calcualted in 96 dimensions so when you do the pca you don't preserve "
   ]
  },
  {
   "cell_type": "code",
   "execution_count": 177,
   "metadata": {},
   "outputs": [],
   "source": [
    "kmeans = KMeans(n_clusters=4)\n",
    "# Fitting the input data\n",
    "kmeans = kmeans.fit(array)\n",
    "# Getting the cluster labels\n",
    "labels = kmeans.predict(array)\n",
    "# Centroid values\n",
    "centroids = kmeans.cluster_centers_"
   ]
  },
  {
   "cell_type": "code",
   "execution_count": null,
   "metadata": {},
   "outputs": [],
   "source": []
  },
  {
   "cell_type": "code",
   "execution_count": null,
   "metadata": {},
   "outputs": [],
   "source": []
  },
  {
   "cell_type": "code",
   "execution_count": null,
   "metadata": {},
   "outputs": [],
   "source": []
  },
  {
   "cell_type": "code",
   "execution_count": null,
   "metadata": {},
   "outputs": [],
   "source": []
  },
  {
   "cell_type": "code",
   "execution_count": null,
   "metadata": {},
   "outputs": [],
   "source": []
  }
 ],
 "metadata": {
  "kernelspec": {
   "display_name": "Python 3",
   "language": "python",
   "name": "python3"
  },
  "language_info": {
   "codemirror_mode": {
    "name": "ipython",
    "version": 3
   },
   "file_extension": ".py",
   "mimetype": "text/x-python",
   "name": "python",
   "nbconvert_exporter": "python",
   "pygments_lexer": "ipython3",
   "version": "3.7.4"
  }
 },
 "nbformat": 4,
 "nbformat_minor": 4
}
