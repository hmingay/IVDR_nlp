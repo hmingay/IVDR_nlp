{
 "cells": [
  {
   "cell_type": "code",
   "execution_count": 1,
   "metadata": {},
   "outputs": [],
   "source": [
    "#download a pretrained model \n",
    "from sentence_transformers import SentenceTransformer\n",
    "\n",
    "\n",
    "model = SentenceTransformer('bert-large-nli-stsb-mean-tokens')\n",
    "\n",
    "\n",
    "#model = SentenceTransformer('bert-base-nli-mean-tokens')"
   ]
  },
  {
   "cell_type": "code",
   "execution_count": 2,
   "metadata": {},
   "outputs": [
    {
     "ename": "ImportError",
     "evalue": "dlopen(/Users/harrymingay/miniconda3/lib/python3.7/site-packages/torch/_C.cpython-37m-darwin.so, 9): Library not loaded: @rpath/libshm.dylib\n  Referenced from: /Users/harrymingay/miniconda3/lib/python3.7/site-packages/torch/_C.cpython-37m-darwin.so\n  Reason: image not found",
     "output_type": "error",
     "traceback": [
      "\u001b[0;31m---------------------------------------------------------------------------\u001b[0m",
      "\u001b[0;31mImportError\u001b[0m                               Traceback (most recent call last)",
      "\u001b[0;32m<ipython-input-2-e4c59f3dee81>\u001b[0m in \u001b[0;36m<module>\u001b[0;34m\u001b[0m\n\u001b[0;32m----> 1\u001b[0;31m \u001b[0;32mimport\u001b[0m \u001b[0mbiobert_embedding\u001b[0m\u001b[0;34m\u001b[0m\u001b[0;34m\u001b[0m\u001b[0m\n\u001b[0m",
      "\u001b[0;32m~/miniconda3/lib/python3.7/site-packages/biobert_embedding/__init__.py\u001b[0m in \u001b[0;36m<module>\u001b[0;34m\u001b[0m\n\u001b[1;32m      4\u001b[0m \"\"\"\n\u001b[1;32m      5\u001b[0m \u001b[0;34m\u001b[0m\u001b[0m\n\u001b[0;32m----> 6\u001b[0;31m \u001b[0;32mfrom\u001b[0m \u001b[0mbiobert_embedding\u001b[0m\u001b[0;34m.\u001b[0m\u001b[0membedding\u001b[0m \u001b[0;32mimport\u001b[0m \u001b[0mBiobertEmbedding\u001b[0m\u001b[0;34m\u001b[0m\u001b[0;34m\u001b[0m\u001b[0m\n\u001b[0m",
      "\u001b[0;32m~/miniconda3/lib/python3.7/site-packages/biobert_embedding/embedding.py\u001b[0m in \u001b[0;36m<module>\u001b[0;34m\u001b[0m\n\u001b[1;32m      1\u001b[0m \u001b[0;32mimport\u001b[0m \u001b[0mos\u001b[0m\u001b[0;34m\u001b[0m\u001b[0;34m\u001b[0m\u001b[0m\n\u001b[0;32m----> 2\u001b[0;31m \u001b[0;32mimport\u001b[0m \u001b[0mtorch\u001b[0m\u001b[0;34m\u001b[0m\u001b[0;34m\u001b[0m\u001b[0m\n\u001b[0m\u001b[1;32m      3\u001b[0m \u001b[0;32mimport\u001b[0m \u001b[0mlogging\u001b[0m\u001b[0;34m\u001b[0m\u001b[0;34m\u001b[0m\u001b[0m\n\u001b[1;32m      4\u001b[0m \u001b[0;32mimport\u001b[0m \u001b[0mtensorflow\u001b[0m \u001b[0;32mas\u001b[0m \u001b[0mtf\u001b[0m\u001b[0;34m\u001b[0m\u001b[0;34m\u001b[0m\u001b[0m\n\u001b[1;32m      5\u001b[0m \u001b[0;32mfrom\u001b[0m \u001b[0mpathlib\u001b[0m \u001b[0;32mimport\u001b[0m \u001b[0mPath\u001b[0m\u001b[0;34m\u001b[0m\u001b[0;34m\u001b[0m\u001b[0m\n",
      "\u001b[0;32m~/miniconda3/lib/python3.7/site-packages/torch/__init__.py\u001b[0m in \u001b[0;36m<module>\u001b[0;34m\u001b[0m\n\u001b[1;32m     79\u001b[0m \u001b[0;32mdel\u001b[0m \u001b[0m_dl_flags\u001b[0m\u001b[0;34m\u001b[0m\u001b[0;34m\u001b[0m\u001b[0m\n\u001b[1;32m     80\u001b[0m \u001b[0;34m\u001b[0m\u001b[0m\n\u001b[0;32m---> 81\u001b[0;31m \u001b[0;32mfrom\u001b[0m \u001b[0mtorch\u001b[0m\u001b[0;34m.\u001b[0m\u001b[0m_C\u001b[0m \u001b[0;32mimport\u001b[0m \u001b[0;34m*\u001b[0m\u001b[0;34m\u001b[0m\u001b[0;34m\u001b[0m\u001b[0m\n\u001b[0m\u001b[1;32m     82\u001b[0m \u001b[0;34m\u001b[0m\u001b[0m\n\u001b[1;32m     83\u001b[0m __all__ += [name for name in dir(_C)\n",
      "\u001b[0;31mImportError\u001b[0m: dlopen(/Users/harrymingay/miniconda3/lib/python3.7/site-packages/torch/_C.cpython-37m-darwin.so, 9): Library not loaded: @rpath/libshm.dylib\n  Referenced from: /Users/harrymingay/miniconda3/lib/python3.7/site-packages/torch/_C.cpython-37m-darwin.so\n  Reason: image not found"
     ]
    }
   ],
   "source": [
    "import biobert_embedding"
   ]
  },
  {
   "cell_type": "code",
   "execution_count": 2,
   "metadata": {},
   "outputs": [],
   "source": [
    "import sklearn\n",
    "from sklearn import cluster\n",
    "import numpy as np\n",
    "from copy import deepcopy\n",
    "from sklearn.cluster import KMeans\n",
    "import spacy\n",
    "import pandas as pd\n",
    "import matplotlib.pyplot as plt\n",
    "import seaborn as sns; sns.set()"
   ]
  },
  {
   "cell_type": "code",
   "execution_count": 3,
   "metadata": {},
   "outputs": [],
   "source": [
    "#import the rules from rule_3_companion.txt \n",
    "with open('rule_3_companion.txt', 'r') as f:\n",
    "    r3 = f.read()\n",
    "\n",
    "#seperate out the rules in the .txt file into seperate sentences     \n",
    "sents = [a.strip() for a in r3.split('\\n- ')]\n",
    "sents = sents[1:]\n"
   ]
  },
  {
   "cell_type": "code",
   "execution_count": 4,
   "metadata": {},
   "outputs": [],
   "source": [
    "#map the rules to vectors using the pretrained model \n",
    "sentence_embeddings = model.encode(sents)\n"
   ]
  },
  {
   "cell_type": "code",
   "execution_count": 5,
   "metadata": {},
   "outputs": [
    {
     "data": {
      "text/plain": [
       "(13, 1024)"
      ]
     },
     "execution_count": 5,
     "metadata": {},
     "output_type": "execute_result"
    }
   ],
   "source": [
    "import numpy as np\n",
    "\n",
    "#create an array with the 13 rules and their corresponding sentence_embeddings \n",
    "array = np.array(sentence_embeddings) \n",
    "\n",
    "array.shape\n",
    "#print(array)"
   ]
  },
  {
   "cell_type": "code",
   "execution_count": 305,
   "metadata": {},
   "outputs": [
    {
     "data": {
      "text/plain": [
       "array([4, 6, 2, 1, 2, 8, 2, 5, 3, 2, 0, 7, 7], dtype=int32)"
      ]
     },
     "execution_count": 305,
     "metadata": {},
     "output_type": "execute_result"
    }
   ],
   "source": [
    "kmeansAlgo = sklearn.cluster.KMeans(n_clusters=9) # initalise KMeans\n",
    "\n",
    "kmeansAlgo.fit(array) # fitting the KMeans algorithm\n",
    "\n",
    "# Predicting labels with KMeans clustering\n",
    "labels = kmeansAlgo.predict(array); labels"
   ]
  },
  {
   "cell_type": "code",
   "execution_count": 306,
   "metadata": {},
   "outputs": [
    {
     "data": {
      "text/plain": [
       "(9, 1024)"
      ]
     },
     "execution_count": 306,
     "metadata": {},
     "output_type": "execute_result"
    }
   ],
   "source": [
    "#defining the cluster centres for the KMeans algorithm \n",
    "\n",
    "centers = kmeansAlgo.cluster_centers_\n",
    "centers.shape"
   ]
  },
  {
   "cell_type": "code",
   "execution_count": 307,
   "metadata": {},
   "outputs": [],
   "source": [
    "with open('rule_3.txt', 'r') as f:\n",
    "    r3 = f.read()\n",
    "    \n",
    "sents = [a.strip() for a in r3.split('\\n- ')]\n",
    "sents = sents[1:]"
   ]
  },
  {
   "cell_type": "code",
   "execution_count": 308,
   "metadata": {},
   "outputs": [],
   "source": [
    "#sents = ['Rule 3a', 'Rule 3b','Rule 3c','Rule 3d','Rule 3e','Rule 3f','Rule 3g','Rule 3h','Rule 3i','Rule 3j','Rule 3k','Rule 3l','Rule 3m', ]"
   ]
  },
  {
   "cell_type": "code",
   "execution_count": 309,
   "metadata": {},
   "outputs": [
    {
     "data": {
      "text/html": [
       "<div>\n",
       "<style scoped>\n",
       "    .dataframe tbody tr th:only-of-type {\n",
       "        vertical-align: middle;\n",
       "    }\n",
       "\n",
       "    .dataframe tbody tr th {\n",
       "        vertical-align: top;\n",
       "    }\n",
       "\n",
       "    .dataframe thead th {\n",
       "        text-align: right;\n",
       "    }\n",
       "</style>\n",
       "<table border=\"1\" class=\"dataframe\">\n",
       "  <thead>\n",
       "    <tr style=\"text-align: right;\">\n",
       "      <th></th>\n",
       "      <th>sentences</th>\n",
       "      <th>cluster number</th>\n",
       "    </tr>\n",
       "  </thead>\n",
       "  <tbody>\n",
       "    <tr>\n",
       "      <th>0</th>\n",
       "      <td>for detecting the presence of, or exposure to,...</td>\n",
       "      <td>4</td>\n",
       "    </tr>\n",
       "    <tr>\n",
       "      <th>1</th>\n",
       "      <td>for  detecting  the  presence  in  cerebrospin...</td>\n",
       "      <td>6</td>\n",
       "    </tr>\n",
       "    <tr>\n",
       "      <th>2</th>\n",
       "      <td>for  detecting  the  presence  of  an  infecti...</td>\n",
       "      <td>2</td>\n",
       "    </tr>\n",
       "    <tr>\n",
       "      <th>3</th>\n",
       "      <td>for pre-natal screening of women in order  to ...</td>\n",
       "      <td>1</td>\n",
       "    </tr>\n",
       "    <tr>\n",
       "      <th>4</th>\n",
       "      <td>for  determining  infective  disease  status  ...</td>\n",
       "      <td>2</td>\n",
       "    </tr>\n",
       "    <tr>\n",
       "      <th>5</th>\n",
       "      <td>to be used as companion diagnostics;</td>\n",
       "      <td>8</td>\n",
       "    </tr>\n",
       "    <tr>\n",
       "      <th>6</th>\n",
       "      <td>to  be  used  for  disease  staging,  where  t...</td>\n",
       "      <td>2</td>\n",
       "    </tr>\n",
       "    <tr>\n",
       "      <th>7</th>\n",
       "      <td>to be used in screening, diagnosis, or staging...</td>\n",
       "      <td>5</td>\n",
       "    </tr>\n",
       "    <tr>\n",
       "      <th>8</th>\n",
       "      <td>for human genetic testing;</td>\n",
       "      <td>3</td>\n",
       "    </tr>\n",
       "    <tr>\n",
       "      <th>9</th>\n",
       "      <td>for  monitoring  of  levels  of  medicinal  pr...</td>\n",
       "      <td>2</td>\n",
       "    </tr>\n",
       "    <tr>\n",
       "      <th>10</th>\n",
       "      <td>for management of patients suffering from a li...</td>\n",
       "      <td>0</td>\n",
       "    </tr>\n",
       "    <tr>\n",
       "      <th>11</th>\n",
       "      <td>for screening for congenital disorders in the ...</td>\n",
       "      <td>7</td>\n",
       "    </tr>\n",
       "    <tr>\n",
       "      <th>12</th>\n",
       "      <td>for  screening  for  congenital  disorders  in...</td>\n",
       "      <td>7</td>\n",
       "    </tr>\n",
       "  </tbody>\n",
       "</table>\n",
       "</div>"
      ],
      "text/plain": [
       "                                            sentences  cluster number\n",
       "0   for detecting the presence of, or exposure to,...               4\n",
       "1   for  detecting  the  presence  in  cerebrospin...               6\n",
       "2   for  detecting  the  presence  of  an  infecti...               2\n",
       "3   for pre-natal screening of women in order  to ...               1\n",
       "4   for  determining  infective  disease  status  ...               2\n",
       "5                to be used as companion diagnostics;               8\n",
       "6   to  be  used  for  disease  staging,  where  t...               2\n",
       "7   to be used in screening, diagnosis, or staging...               5\n",
       "8                          for human genetic testing;               3\n",
       "9   for  monitoring  of  levels  of  medicinal  pr...               2\n",
       "10  for management of patients suffering from a li...               0\n",
       "11  for screening for congenital disorders in the ...               7\n",
       "12  for  screening  for  congenital  disorders  in...               7"
      ]
     },
     "execution_count": 309,
     "metadata": {},
     "output_type": "execute_result"
    }
   ],
   "source": [
    "pd.DataFrame({'sentences': sents, 'cluster number': (labels)})"
   ]
  },
  {
   "cell_type": "code",
   "execution_count": 310,
   "metadata": {},
   "outputs": [
    {
     "data": {
      "text/plain": [
       "(9, 1024)"
      ]
     },
     "execution_count": 310,
     "metadata": {},
     "output_type": "execute_result"
    }
   ],
   "source": [
    "kmeansAlgo.cluster_centers_.shape\n"
   ]
  },
  {
   "cell_type": "code",
   "execution_count": 311,
   "metadata": {},
   "outputs": [],
   "source": [
    "# performing a principal component analysis to reduce the number of dimensions \n",
    "\n",
    "pca = sklearn.decomposition.PCA()\n",
    "result = pca.fit_transform(array)"
   ]
  },
  {
   "cell_type": "code",
   "execution_count": 312,
   "metadata": {},
   "outputs": [
    {
     "data": {
      "text/plain": [
       "(9, 2)"
      ]
     },
     "execution_count": 312,
     "metadata": {},
     "output_type": "execute_result"
    }
   ],
   "source": [
    "projected_centers = pca.transform(centers)\n",
    "projected_centers[:, :2].shape"
   ]
  },
  {
   "cell_type": "code",
   "execution_count": 313,
   "metadata": {},
   "outputs": [],
   "source": [
    "# label names and colours for the plot \n",
    "cdict = {0: 'green', 1: 'red', 2: 'orange', 3: 'blue', 4: 'purple', 5: 'turquoise', 6: 'brown', 7: 'yellow', 8: 'maroon'}\n",
    "label_names = {0: 'cluster 1', 1: 'cluster 2', 2: 'cluster 3', 3: 'cluster 4', 4: 'cluster 5', 5: 'cluster 6', 6: 'cluster 7', 7: 'cluster 8', 8: 'cluster 9'}"
   ]
  },
  {
   "cell_type": "code",
   "execution_count": 314,
   "metadata": {},
   "outputs": [
    {
     "data": {
      "image/png": "[encoded data removed]",
      "text/plain": [
       "<Figure size 504x360 with 1 Axes>"
      ]
     },
     "metadata": {},
     "output_type": "display_data"
    }
   ],
   "source": [
    "#plot the clusters along with the cluster centres \n",
    "\n",
    "fig,ax = plt.subplots(figsize = (7,5))\n",
    "plt.scatter(projected_centers[:, 0], projected_centers[:, 1], c='black', s=200, alpha=0.5)\n",
    "\n",
    "for l in np.unique(labels):\n",
    "    idx = np.where(labels==l)\n",
    "    ax.scatter(result[idx, 0], result[idx, 1],\n",
    "              c=cdict[l], label=label_names[l])\n",
    "\n",
    "plt.title(\"Sentence embedding with fine-tuned BERT\", fontsize=16)\n",
    "plt.xlabel(\"Dimension 1\",fontsize=14)\n",
    "plt.ylabel(\"Dimension 2\",fontsize=14)\n",
    "plt.legend()\n",
    "plt.show()\n",
    "fig.savefig('BERT STS cluster')\n",
    "\n",
    "#pca; first component is a weighted linear combination of the 96 dimensions \n",
    "#second is also weighted....\n",
    "#when you project vectors onto this 2D space, you lose information which is why we have an unexpected cluster centre \n",
    "\n",
    "#the clusters have been calcualted in 96 dimensions so when you do the pca you don't preserve "
   ]
  },
  {
   "cell_type": "code",
   "execution_count": 315,
   "metadata": {},
   "outputs": [
    {
     "name": "stdout",
     "output_type": "stream",
     "text": [
      "[[-5.5017247   6.4014025 ]\n",
      " [ 3.9575915  -0.07233022]\n",
      " [-6.8009014  -1.5508552 ]\n",
      " [12.261898   -4.7157664 ]\n",
      " [ 9.47145     4.7185493 ]\n",
      " [ 8.311987    9.040749  ]\n",
      " [ 2.904497   -0.5434267 ]\n",
      " [ 0.8404759  -7.7741957 ]\n",
      " [-5.883047    6.922639  ]]\n"
     ]
    }
   ],
   "source": [
    "clust = pca.transform(centers)[:,:2]\n",
    "centers.shape\n",
    "print(clust)"
   ]
  },
  {
   "cell_type": "code",
   "execution_count": 316,
   "metadata": {},
   "outputs": [
    {
     "name": "stdout",
     "output_type": "stream",
     "text": [
      "[[ 9.47145     4.7185493 ]\n",
      " [ 2.904497   -0.5434267 ]\n",
      " [-3.6028218  -4.8394194 ]\n",
      " [ 3.9575915  -0.07233022]\n",
      " [-8.168665   -1.5328674 ]\n",
      " [-5.883047    6.922639  ]\n",
      " [-7.7967577  -0.11713095]\n",
      " [ 8.311987    9.040749  ]\n",
      " [12.261898   -4.7157664 ]\n",
      " [-7.635359    0.28599787]\n",
      " [-5.5017247   6.4014025 ]\n",
      " [ 6.9976087  -7.7598276 ]\n",
      " [-5.3166585  -7.7885675 ]]\n"
     ]
    },
    {
     "data": {
      "text/plain": [
       "(13, 2)"
      ]
     },
     "execution_count": 316,
     "metadata": {},
     "output_type": "execute_result"
    }
   ],
   "source": [
    "points = pca.transform(array)[:,:2]\n",
    "print(points)\n",
    "points.shape"
   ]
  },
  {
   "cell_type": "code",
   "execution_count": null,
   "metadata": {},
   "outputs": [],
   "source": []
  },
  {
   "cell_type": "code",
   "execution_count": null,
   "metadata": {},
   "outputs": [],
   "source": []
  },
  {
   "cell_type": "code",
   "execution_count": null,
   "metadata": {},
   "outputs": [],
   "source": []
  }
 ],
 "metadata": {
  "kernelspec": {
   "display_name": "Python 3",
   "language": "python",
   "name": "python3"
  },
  "language_info": {
   "codemirror_mode": {
    "name": "ipython",
    "version": 3
   },
   "file_extension": ".py",
   "mimetype": "text/x-python",
   "name": "python",
   "nbconvert_exporter": "python",
   "pygments_lexer": "ipython3",
   "version": "3.7.4"
  }
 },
 "nbformat": 4,
 "nbformat_minor": 4
}
