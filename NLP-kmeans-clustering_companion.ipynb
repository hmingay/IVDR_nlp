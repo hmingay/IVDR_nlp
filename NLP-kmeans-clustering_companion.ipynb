{
 "cells": [
  {
   "cell_type": "code",
   "execution_count": 25,
   "metadata": {},
   "outputs": [],
   "source": [
    "import sklearn\n",
    "from sklearn import cluster\n",
    "import numpy as np\n",
    "from copy import deepcopy\n",
    "from sklearn.cluster import KMeans\n",
    "import spacy\n",
    "import pandas as pd\n",
    "import matplotlib.pyplot as plt\n",
    "import seaborn as sns; sns.set()"
   ]
  },
  {
   "cell_type": "code",
   "execution_count": null,
   "metadata": {},
   "outputs": [],
   "source": []
  },
  {
   "cell_type": "code",
   "execution_count": 37,
   "metadata": {},
   "outputs": [],
   "source": [
    "#load the text for Rule 3 for analysis \n",
    "#text includes definition for companion diagnostic\n",
    "\n",
    "with open('rule_3_companion.txt', 'r') as f:\n",
    "    r3 = f.read()\n",
    "    \n",
    "sents = [a.strip() for a in r3.split('\\n- ')]\n",
    "sents = sents[1:]\n",
    "#print(sents)"
   ]
  },
  {
   "cell_type": "code",
   "execution_count": 38,
   "metadata": {},
   "outputs": [
    {
     "data": {
      "text/plain": [
       "(13, 96)"
      ]
     },
     "execution_count": 38,
     "metadata": {},
     "output_type": "execute_result"
    }
   ],
   "source": [
    "#spacy toolkit for word encoding \n",
    "\n",
    "nlp = spacy.load('en_core_web_sm')\n",
    "\n",
    "rules = [nlp(sent) for sent in sents]\n",
    "\n",
    "array = np.array([sent.vector for sent in rules])\n",
    "array.shape"
   ]
  },
  {
   "cell_type": "code",
   "execution_count": 74,
   "metadata": {},
   "outputs": [
    {
     "data": {
      "text/plain": [
       "array([3, 0, 0, 1, 0, 3, 0, 3, 2, 0, 3, 1, 0], dtype=int32)"
      ]
     },
     "execution_count": 74,
     "metadata": {},
     "output_type": "execute_result"
    }
   ],
   "source": [
    "kmeansAlgo = sklearn.cluster.KMeans(n_clusters=4) # initalise KMeans\n",
    "\n",
    "kmeansAlgo.fit(array) # fitting the KMeans algorithm\n",
    "\n",
    "# Predicting labels with KMeans clustering\n",
    "labels = kmeansAlgo.predict(array); labels"
   ]
  },
  {
   "cell_type": "code",
   "execution_count": 75,
   "metadata": {},
   "outputs": [
    {
     "data": {
      "text/plain": [
       "(4, 96)"
      ]
     },
     "execution_count": 75,
     "metadata": {},
     "output_type": "execute_result"
    }
   ],
   "source": [
    "#defining the cluster centres for the KMeans algorithm \n",
    "\n",
    "centers = kmeansAlgo.cluster_centers_\n",
    "centers.shape"
   ]
  },
  {
   "cell_type": "code",
   "execution_count": 85,
   "metadata": {},
   "outputs": [
    {
     "data": {
      "text/html": [
       "<div>\n",
       "<style scoped>\n",
       "    .dataframe tbody tr th:only-of-type {\n",
       "        vertical-align: middle;\n",
       "    }\n",
       "\n",
       "    .dataframe tbody tr th {\n",
       "        vertical-align: top;\n",
       "    }\n",
       "\n",
       "    .dataframe thead th {\n",
       "        text-align: right;\n",
       "    }\n",
       "</style>\n",
       "<table border=\"1\" class=\"dataframe\">\n",
       "  <thead>\n",
       "    <tr style=\"text-align: right;\">\n",
       "      <th></th>\n",
       "      <th>sentences</th>\n",
       "      <th>cluster number</th>\n",
       "    </tr>\n",
       "  </thead>\n",
       "  <tbody>\n",
       "    <tr>\n",
       "      <th>0</th>\n",
       "      <td>for detecting the presence of, or exposure to,...</td>\n",
       "      <td>2</td>\n",
       "    </tr>\n",
       "    <tr>\n",
       "      <th>1</th>\n",
       "      <td>for  detecting  the  presence  in  cerebrospin...</td>\n",
       "      <td>1</td>\n",
       "    </tr>\n",
       "    <tr>\n",
       "      <th>2</th>\n",
       "      <td>for  detecting  the  presence  of  an  infecti...</td>\n",
       "      <td>1</td>\n",
       "    </tr>\n",
       "    <tr>\n",
       "      <th>3</th>\n",
       "      <td>for pre-natal screening of women in order  to ...</td>\n",
       "      <td>0</td>\n",
       "    </tr>\n",
       "    <tr>\n",
       "      <th>4</th>\n",
       "      <td>for  determining  infective  disease  status  ...</td>\n",
       "      <td>1</td>\n",
       "    </tr>\n",
       "    <tr>\n",
       "      <th>5</th>\n",
       "      <td>A device which is essential for the safe and e...</td>\n",
       "      <td>0</td>\n",
       "    </tr>\n",
       "    <tr>\n",
       "      <th>6</th>\n",
       "      <td>to  be  used  for  disease  staging,  where  t...</td>\n",
       "      <td>1</td>\n",
       "    </tr>\n",
       "    <tr>\n",
       "      <th>7</th>\n",
       "      <td>to be used in screening, diagnosis, or staging...</td>\n",
       "      <td>2</td>\n",
       "    </tr>\n",
       "    <tr>\n",
       "      <th>8</th>\n",
       "      <td>for human genetic testing;</td>\n",
       "      <td>3</td>\n",
       "    </tr>\n",
       "    <tr>\n",
       "      <th>9</th>\n",
       "      <td>for  monitoring  of  levels  of  medicinal  pr...</td>\n",
       "      <td>1</td>\n",
       "    </tr>\n",
       "    <tr>\n",
       "      <th>10</th>\n",
       "      <td>for management of patients suffering from a li...</td>\n",
       "      <td>0</td>\n",
       "    </tr>\n",
       "    <tr>\n",
       "      <th>11</th>\n",
       "      <td>for screening for congenital disorders in the ...</td>\n",
       "      <td>0</td>\n",
       "    </tr>\n",
       "    <tr>\n",
       "      <th>12</th>\n",
       "      <td>for  screening  for  congenital  disorders  in...</td>\n",
       "      <td>1</td>\n",
       "    </tr>\n",
       "  </tbody>\n",
       "</table>\n",
       "</div>"
      ],
      "text/plain": [
       "                                            sentences  cluster number\n",
       "0   for detecting the presence of, or exposure to,...               2\n",
       "1   for  detecting  the  presence  in  cerebrospin...               1\n",
       "2   for  detecting  the  presence  of  an  infecti...               1\n",
       "3   for pre-natal screening of women in order  to ...               0\n",
       "4   for  determining  infective  disease  status  ...               1\n",
       "5   A device which is essential for the safe and e...               0\n",
       "6   to  be  used  for  disease  staging,  where  t...               1\n",
       "7   to be used in screening, diagnosis, or staging...               2\n",
       "8                          for human genetic testing;               3\n",
       "9   for  monitoring  of  levels  of  medicinal  pr...               1\n",
       "10  for management of patients suffering from a li...               0\n",
       "11  for screening for congenital disorders in the ...               0\n",
       "12  for  screening  for  congenital  disorders  in...               1"
      ]
     },
     "execution_count": 85,
     "metadata": {},
     "output_type": "execute_result"
    }
   ],
   "source": [
    "pd.DataFrame({'sentences': sents, 'cluster number': (labels)})"
   ]
  },
  {
   "cell_type": "code",
   "execution_count": 77,
   "metadata": {},
   "outputs": [
    {
     "data": {
      "text/plain": [
       "(4, 96)"
      ]
     },
     "execution_count": 77,
     "metadata": {},
     "output_type": "execute_result"
    }
   ],
   "source": [
    "kmeansAlgo.cluster_centers_.shape"
   ]
  },
  {
   "cell_type": "code",
   "execution_count": 78,
   "metadata": {},
   "outputs": [],
   "source": [
    "# performing a principal component analysis to reduce the number of dimensions \n",
    "\n",
    "pca = sklearn.decomposition.PCA()\n",
    "result = pca.fit_transform(array)"
   ]
  },
  {
   "cell_type": "code",
   "execution_count": 79,
   "metadata": {},
   "outputs": [
    {
     "data": {
      "text/plain": [
       "(4, 2)"
      ]
     },
     "execution_count": 79,
     "metadata": {},
     "output_type": "execute_result"
    }
   ],
   "source": [
    "projected_centers = pca.transform(centers)\n",
    "projected_centers[:, :2].shape"
   ]
  },
  {
   "cell_type": "code",
   "execution_count": 80,
   "metadata": {},
   "outputs": [],
   "source": [
    "# label names and colours for the plot \n",
    "cdict = {0: 'green', 1: 'red', 2: 'orange', 3: 'blue', 4: 'purple', 5: 'turquoise'}\n",
    "label_names = {0: 'cluster 1', 1: 'cluster 2', 2: 'cluster 3', 3: 'cluster 4', 4: 'cluster 5', 5: 'cluster 6'}"
   ]
  },
  {
   "cell_type": "code",
   "execution_count": 81,
   "metadata": {},
   "outputs": [
    {
     "data": {
      "image/png": "[encoded data removed]",
      "text/plain": [
       "<Figure size 504x360 with 1 Axes>"
      ]
     },
     "metadata": {},
     "output_type": "display_data"
    }
   ],
   "source": [
    "#plot the clusters along with the cluster centres \n",
    "\n",
    "fig,ax = plt.subplots(figsize = (7,5))\n",
    "plt.scatter(projected_centers[:, 0], projected_centers[:, 1], c='black', s=200, alpha=0.5)\n",
    "\n",
    "for l in np.unique(labels):\n",
    "    idx = np.where(labels==l)\n",
    "    ax.scatter(result[idx, 0], result[idx, 1],\n",
    "              c=cdict[l], label=label_names[l])\n",
    "    \n",
    "plt.xlabel(\"Dimension 1\",fontsize=14)\n",
    "plt.ylabel(\"Dimension 2\",fontsize=14)\n",
    "plt.legend()\n",
    "plt.show()\n",
    "\n",
    "#pca; first component is a weighted linear combination of the 96 dimensions \n",
    "#second is also weighted....\n",
    "#when you project vectors onto this 2D space, you lose information which is why we have an unexpected cluster centre \n",
    "\n",
    "#the clusters have been calcualted in 96 dimensions so when you do the pca you don't preserve "
   ]
  },
  {
   "cell_type": "code",
   "execution_count": 82,
   "metadata": {},
   "outputs": [],
   "source": [
    "kmeans = KMeans(n_clusters=4)\n",
    "# Fitting the input data\n",
    "kmeans = kmeans.fit(array)\n",
    "# Getting the cluster labels\n",
    "labels = kmeans.predict(array)\n",
    "# Centroid values\n",
    "centroids = kmeans.cluster_centers_"
   ]
  },
  {
   "cell_type": "code",
   "execution_count": null,
   "metadata": {},
   "outputs": [],
   "source": []
  },
  {
   "cell_type": "code",
   "execution_count": null,
   "metadata": {},
   "outputs": [],
   "source": []
  },
  {
   "cell_type": "code",
   "execution_count": null,
   "metadata": {},
   "outputs": [],
   "source": []
  },
  {
   "cell_type": "code",
   "execution_count": null,
   "metadata": {},
   "outputs": [],
   "source": []
  },
  {
   "cell_type": "code",
   "execution_count": null,
   "metadata": {},
   "outputs": [],
   "source": []
  }
 ],
 "metadata": {
  "kernelspec": {
   "display_name": "Python 3",
   "language": "python",
   "name": "python3"
  },
  "language_info": {
   "codemirror_mode": {
    "name": "ipython",
    "version": 3
   },
   "file_extension": ".py",
   "mimetype": "text/x-python",
   "name": "python",
   "nbconvert_exporter": "python",
   "pygments_lexer": "ipython3",
   "version": "3.7.4"
  }
 },
 "nbformat": 4,
 "nbformat_minor": 4
}
