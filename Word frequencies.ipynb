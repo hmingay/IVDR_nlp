{
 "cells": [
  {
   "cell_type": "code",
   "execution_count": 12,
   "metadata": {},
   "outputs": [],
   "source": [
    "#currently trying it with a smaller text but aim to run this on IVDR.txt\n",
    "with open('rule_3_companion.txt', 'r') as f:\n",
    "    r3 = f.read()\n",
    "    \n",
    "#print(r3)"
   ]
  },
  {
   "cell_type": "code",
   "execution_count": 14,
   "metadata": {},
   "outputs": [],
   "source": [
    "#pairs is a dictionary containing each word as a reference as its frequency as the value \n",
    "wordlist = r3.split()\n",
    "\n",
    "wordfreq = [wordlist.count(w) for w in wordlist] # a list comprehension\n",
    "\n",
    "pairs = \"Pairs\\n\" + str(list(zip(wordlist, wordfreq)))\n",
    "#print(pairs)\n",
    "#print(wordlist)"
   ]
  },
  {
   "cell_type": "code",
   "execution_count": 15,
   "metadata": {},
   "outputs": [],
   "source": [
    "#removing all strings that are not words(couldn't remove the space ' ')\n",
    "def stripNonAlphaNum(text):\n",
    "    import re\n",
    "    return re.compile(r'\\W+', re.UNICODE).split(text)\n",
    "\n",
    "#stripNonAlphaNum(r3)"
   ]
  },
  {
   "cell_type": "code",
   "execution_count": 16,
   "metadata": {},
   "outputs": [],
   "source": [
    "#I don't understand why this is outputting single letters rather than words \n",
    "\n",
    "def wordListToFreqDict(wordlist):\n",
    "    wordfreq = [wordlist.count(p) for p in wordlist]\n",
    "    return dict(list(zip(wordlist,wordfreq)))\n",
    "\n",
    "#wordListToFreqDict(r3)"
   ]
  },
  {
   "cell_type": "code",
   "execution_count": null,
   "metadata": {},
   "outputs": [],
   "source": []
  }
 ],
 "metadata": {
  "kernelspec": {
   "display_name": "Python 3",
   "language": "python",
   "name": "python3"
  },
  "language_info": {
   "codemirror_mode": {
    "name": "ipython",
    "version": 3
   },
   "file_extension": ".py",
   "mimetype": "text/x-python",
   "name": "python",
   "nbconvert_exporter": "python",
   "pygments_lexer": "ipython3",
   "version": "3.7.4"
  }
 },
 "nbformat": 4,
 "nbformat_minor": 4
}
